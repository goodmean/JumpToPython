{
 "cells": [
  {
   "cell_type": "code",
   "execution_count": null,
   "id": "3c521f31",
   "metadata": {},
   "outputs": [],
   "source": [
    "number = list(map(int, input().split()))\n",
    "number.sort()\n",
    "print(number[1])"
   ]
  },
  {
   "cell_type": "code",
   "execution_count": 14,
   "id": "68ab513e",
   "metadata": {},
   "outputs": [
    {
     "name": "stdout",
     "output_type": "stream",
     "text": [
      "72\n",
      "2\n",
      "2\n",
      "2\n",
      "3\n",
      "3\n"
     ]
    }
   ],
   "source": [
    "num = int(input())\n",
    "i = 2 # i는 소인수분해 최소값인 2부터 시작\n",
    "while num != 1: # 나누다가 num이 1이되면 멈춤\n",
    "    if num % i == 0: # num이 딱떨어지는 값을 만나면 num을 나누고 i를 출력\n",
    "        num /= i\n",
    "        print(i)\n",
    "    else:            # 더이상 i로 나눠지지 않는다면 i를 1올리고 반복\n",
    "        i += 1"
   ]
  }
 ],
 "metadata": {
  "kernelspec": {
   "display_name": "Python 3 (ipykernel)",
   "language": "python",
   "name": "python3"
  },
  "language_info": {
   "codemirror_mode": {
    "name": "ipython",
    "version": 3
   },
   "file_extension": ".py",
   "mimetype": "text/x-python",
   "name": "python",
   "nbconvert_exporter": "python",
   "pygments_lexer": "ipython3",
   "version": "3.9.12"
  }
 },
 "nbformat": 4,
 "nbformat_minor": 5
}
