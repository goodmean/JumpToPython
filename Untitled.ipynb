{
 "cells": [
  {
   "cell_type": "code",
   "execution_count": 1,
   "id": "043c019a",
   "metadata": {},
   "outputs": [
    {
     "name": "stdout",
     "output_type": "stream",
     "text": [
      "ok\n"
     ]
    }
   ],
   "source": [
    "x = 5\n",
    "\n",
    "if x != 10 :\n",
    "    print('ok')"
   ]
  },
  {
   "cell_type": "code",
   "execution_count": 3,
   "id": "c5bdf92c",
   "metadata": {},
   "outputs": [
    {
     "name": "stdout",
     "output_type": "stream",
     "text": [
      "불합격\n"
     ]
    }
   ],
   "source": [
    "written_test  = 75\n",
    "coding_test = True\n",
    "\n",
    "if written_test >= 80 and coding_test :\n",
    "    print('합격')\n",
    "else :\n",
    "    print('불합격')\n"
   ]
  },
  {
   "cell_type": "code",
   "execution_count": 4,
   "id": "0ff3dd34",
   "metadata": {
    "scrolled": true
   },
   "outputs": [
    {
     "name": "stdout",
     "output_type": "stream",
     "text": [
      "5\n",
      "아무것도 해당하지 않음\n"
     ]
    }
   ],
   "source": [
    "x = int(input())\n",
    "\n",
    "if 11 < x < 20 :\n",
    "    print('11~20')\n",
    "elif 21 < x < 30 :\n",
    "    print('21~30')\n",
    "else :\n",
    "    print('아무것도 해당하지 않음')"
   ]
  },
  {
   "cell_type": "code",
   "execution_count": null,
   "id": "2302dc43",
   "metadata": {},
   "outputs": [],
   "source": []
  }
 ],
 "metadata": {
  "kernelspec": {
   "display_name": "Python 3 (ipykernel)",
   "language": "python",
   "name": "python3"
  },
  "language_info": {
   "codemirror_mode": {
    "name": "ipython",
    "version": 3
   },
   "file_extension": ".py",
   "mimetype": "text/x-python",
   "name": "python",
   "nbconvert_exporter": "python",
   "pygments_lexer": "ipython3",
   "version": "3.9.12"
  }
 },
 "nbformat": 4,
 "nbformat_minor": 5
}
