{
 "cells": [
  {
   "cell_type": "code",
   "execution_count": 2,
   "id": "263de5dc",
   "metadata": {},
   "outputs": [
    {
     "name": "stdout",
     "output_type": "stream",
     "text": [
      "7\n",
      "7 * 1 = 7\n",
      "7 * 2 = 14\n",
      "7 * 3 = 21\n",
      "7 * 4 = 28\n",
      "7 * 5 = 35\n",
      "7 * 6 = 42\n",
      "7 * 7 = 49\n",
      "7 * 8 = 56\n",
      "7 * 9 = 63\n"
     ]
    }
   ],
   "source": [
    "#Q1 입력된 정수의 구구단 출력\n",
    "num = int(input())\n",
    "\n",
    "for i in range(1,10):\n",
    "    print(\"{} * {} = {}\".format(num, i, num*i))"
   ]
  },
  {
   "cell_type": "code",
   "execution_count": 3,
   "id": "e26414f3",
   "metadata": {},
   "outputs": [
    {
     "name": "stdout",
     "output_type": "stream",
     "text": [
      "*****\n",
      "*****\n",
      "*****\n",
      "*****\n",
      "*****\n"
     ]
    }
   ],
   "source": [
    "#Q2 중첩반복문을 사용해 5*5 직사각형 별 그리기\n",
    "for i in range(5):\n",
    "    for j in range(5):\n",
    "        print(\"*\",end=\"\")\n",
    "    print(\"\")"
   ]
  },
  {
   "cell_type": "code",
   "execution_count": 4,
   "id": "2011c5b6",
   "metadata": {},
   "outputs": [
    {
     "name": "stdout",
     "output_type": "stream",
     "text": [
      "2 5\n",
      "4 4\n",
      "8 3\n",
      "16 2\n",
      "32 1\n"
     ]
    }
   ],
   "source": [
    "#Q3\n",
    "i = 2\n",
    "j = 5\n",
    "while i <= 32 or j >= 1 :\n",
    "    print(i, j)\n",
    "    i *= 2\n",
    "    j -= 1"
   ]
  },
  {
   "cell_type": "code",
   "execution_count": 14,
   "id": "61eaee6d",
   "metadata": {},
   "outputs": [
    {
     "name": "stdout",
     "output_type": "stream",
     "text": [
      "1\n",
      "2\n",
      "Fizz\n",
      "4\n",
      "Buzz\n",
      "Fizz\n",
      "7\n",
      "8\n",
      "Fizz\n",
      "Buzz\n",
      "11\n",
      "Fizz\n",
      "13\n",
      "14\n",
      "FizzBuzz\n",
      "16\n",
      "17\n",
      "Fizz\n",
      "19\n",
      "Buzz\n",
      "Fizz\n",
      "22\n",
      "23\n",
      "Fizz\n",
      "Buzz\n",
      "26\n",
      "Fizz\n",
      "28\n",
      "29\n",
      "FizzBuzz\n",
      "31\n",
      "32\n",
      "Fizz\n",
      "34\n",
      "Buzz\n",
      "Fizz\n",
      "37\n",
      "38\n",
      "Fizz\n",
      "Buzz\n",
      "41\n",
      "Fizz\n",
      "43\n",
      "44\n",
      "FizzBuzz\n",
      "46\n",
      "47\n",
      "Fizz\n",
      "49\n",
      "Buzz\n",
      "Fizz\n",
      "52\n",
      "53\n",
      "Fizz\n",
      "Buzz\n",
      "56\n",
      "Fizz\n",
      "58\n",
      "59\n",
      "FizzBuzz\n",
      "61\n",
      "62\n",
      "Fizz\n",
      "64\n",
      "Buzz\n",
      "Fizz\n",
      "67\n",
      "68\n",
      "Fizz\n",
      "Buzz\n",
      "71\n",
      "Fizz\n",
      "73\n",
      "74\n",
      "FizzBuzz\n",
      "76\n",
      "77\n",
      "Fizz\n",
      "79\n",
      "Buzz\n",
      "Fizz\n",
      "82\n",
      "83\n",
      "Fizz\n",
      "Buzz\n",
      "86\n",
      "Fizz\n",
      "88\n",
      "89\n",
      "FizzBuzz\n",
      "91\n",
      "92\n",
      "Fizz\n",
      "94\n",
      "Buzz\n",
      "Fizz\n",
      "97\n",
      "98\n",
      "Fizz\n",
      "Buzz\n"
     ]
    }
   ],
   "source": [
    "#Q4 FizzBuzz\n",
    "for i in range(1,101):\n",
    "    if i % 3 == 0:\n",
    "        if i % 5 == 0:\n",
    "            print(\"FizzBuzz\")\n",
    "        else:\n",
    "            print(\"Fizz\")\n",
    "    elif i % 5 == 0:\n",
    "        print(\"Buzz\")\n",
    "    else:\n",
    "        print(i)"
   ]
  },
  {
   "cell_type": "code",
   "execution_count": 15,
   "id": "8d466514",
   "metadata": {},
   "outputs": [
    {
     "name": "stdout",
     "output_type": "stream",
     "text": [
      "1\n",
      "Fizz\n",
      "3\n",
      "Fizz\n",
      "5\n",
      "Fizz\n",
      "7\n",
      "Fizz\n",
      "9\n",
      "Fizz\n",
      "Buzz\n",
      "Fizz\n",
      "13\n",
      "Fizz\n",
      "15\n",
      "Fizz\n",
      "17\n",
      "Fizz\n",
      "19\n",
      "Fizz\n",
      "21\n",
      "FizzBuzz\n",
      "23\n",
      "Fizz\n",
      "25\n",
      "Fizz\n",
      "27\n",
      "Fizz\n",
      "29\n",
      "Fizz\n",
      "31\n",
      "Fizz\n",
      "Buzz\n",
      "Fizz\n",
      "35\n",
      "Fizz\n",
      "37\n",
      "Fizz\n",
      "39\n",
      "Fizz\n",
      "41\n",
      "Fizz\n",
      "43\n",
      "FizzBuzz\n",
      "45\n",
      "Fizz\n",
      "47\n",
      "Fizz\n",
      "49\n",
      "Fizz\n",
      "51\n",
      "Fizz\n",
      "53\n",
      "Fizz\n",
      "Buzz\n",
      "Fizz\n",
      "57\n",
      "Fizz\n",
      "59\n",
      "Fizz\n",
      "61\n",
      "Fizz\n",
      "63\n",
      "Fizz\n",
      "65\n",
      "FizzBuzz\n",
      "67\n",
      "Fizz\n",
      "69\n",
      "Fizz\n",
      "71\n",
      "Fizz\n",
      "73\n",
      "Fizz\n",
      "75\n",
      "Fizz\n",
      "Buzz\n",
      "Fizz\n",
      "79\n",
      "Fizz\n",
      "81\n",
      "Fizz\n",
      "83\n",
      "Fizz\n",
      "85\n",
      "Fizz\n",
      "87\n",
      "FizzBuzz\n",
      "89\n",
      "Fizz\n",
      "91\n",
      "Fizz\n",
      "93\n",
      "Fizz\n",
      "95\n",
      "Fizz\n",
      "97\n",
      "Fizz\n",
      "Buzz\n",
      "Fizz\n"
     ]
    }
   ],
   "source": [
    "#Q5 \n",
    "for i in range(1, 101):\n",
    "    if i % 2 == 0 and i % 11 == 0:\n",
    "        print(\"FizzBuzz\")\n",
    "    elif i % 2 == 0:\n",
    "        print(\"Fizz\")\n",
    "    elif i % 11 == 0:\n",
    "        print(\"Buzz\")\n",
    "    else:\n",
    "        print(i)"
   ]
  },
  {
   "cell_type": "code",
   "execution_count": 45,
   "id": "3e8d65f3",
   "metadata": {},
   "outputs": [
    {
     "name": "stdout",
     "output_type": "stream",
     "text": [
      "*****\n",
      " ****\n",
      "  ***\n",
      "   **\n",
      "    *\n"
     ]
    }
   ],
   "source": [
    "#Q6\n",
    "for i in range(5):\n",
    "    for j in range(5):\n",
    "        if j==0:\n",
    "            print(\" \"*i,end=\"\")\n",
    "        if j-i>=0:\n",
    "            print(\"*\",end=\"\")\n",
    "    print()"
   ]
  },
  {
   "cell_type": "code",
   "execution_count": 50,
   "id": "520aab76",
   "metadata": {
    "scrolled": true
   },
   "outputs": [
    {
     "name": "stdout",
     "output_type": "stream",
     "text": [
      "    *\n",
      "   ***\n",
      "  *****\n",
      " *******\n",
      "*********\n"
     ]
    }
   ],
   "source": [
    "#Q7\n",
    "for i in range(1,6):\n",
    "    for j in range(i, 5):\n",
    "        print(\" \",end=\"\")\n",
    "    for k in range(2*i-1):\n",
    "        print(\"*\",end=\"\")\n",
    "    print()"
   ]
  },
  {
   "cell_type": "code",
   "execution_count": 41,
   "id": "4ddae998",
   "metadata": {},
   "outputs": [
    {
     "name": "stdout",
     "output_type": "stream",
     "text": [
      "10000\n",
      "8650\n",
      "7300\n",
      "5950\n",
      "4600\n",
      "3250\n",
      "1900\n",
      "550\n"
     ]
    }
   ],
   "source": [
    "#Q8\n",
    "money = int(input())\n",
    "while money>=1350:\n",
    "    money -= 1350\n",
    "    print(money)"
   ]
  }
 ],
 "metadata": {
  "kernelspec": {
   "display_name": "Python 3 (ipykernel)",
   "language": "python",
   "name": "python3"
  },
  "language_info": {
   "codemirror_mode": {
    "name": "ipython",
    "version": 3
   },
   "file_extension": ".py",
   "mimetype": "text/x-python",
   "name": "python",
   "nbconvert_exporter": "python",
   "pygments_lexer": "ipython3",
   "version": "3.9.12"
  }
 },
 "nbformat": 4,
 "nbformat_minor": 5
}
