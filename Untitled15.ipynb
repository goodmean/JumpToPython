{
 "cells": [
  {
   "cell_type": "code",
   "execution_count": 1,
   "id": "819d69e7",
   "metadata": {},
   "outputs": [],
   "source": [
    "#Q1\n",
    "#c.hello()"
   ]
  },
  {
   "cell_type": "code",
   "execution_count": 2,
   "id": "81a1d515",
   "metadata": {},
   "outputs": [],
   "source": [
    "#Q2\n",
    "#d.def mul(a,b):\n",
    "#      return a*b"
   ]
  },
  {
   "cell_type": "code",
   "execution_count": 8,
   "id": "36b7c527",
   "metadata": {},
   "outputs": [],
   "source": [
    "#Q3\n",
    "#a,c,d"
   ]
  },
  {
   "cell_type": "code",
   "execution_count": 10,
   "id": "340cab5d",
   "metadata": {},
   "outputs": [
    {
     "name": "stdout",
     "output_type": "stream",
     "text": [
      "몫:3, 나머지:1\n"
     ]
    }
   ],
   "source": [
    "#Q4\n",
    "x = 10\n",
    "y = 3\n",
    "\n",
    "def get_quotient_remainder(x,y):\n",
    "    return x//y, x%y\n",
    "\n",
    "quotient, remainder = get_quotient_remainder(x,y)\n",
    "print('몫:{}, 나머지:{}'.format(quotient, remainder))"
   ]
  },
  {
   "cell_type": "code",
   "execution_count": 16,
   "id": "405094ae",
   "metadata": {},
   "outputs": [
    {
     "name": "stdout",
     "output_type": "stream",
     "text": [
      "높은 점수: 100\n",
      "높은 점수: 91\n"
     ]
    }
   ],
   "source": [
    "#Q5\n",
    "korean, english, mathematics, science = 100, 86, 81, 91\n",
    "\n",
    "def get_max_score(*args):\n",
    "    list = [*args]\n",
    "    return max(list)\n",
    "\n",
    "max_score = get_max_score(korean, english, mathematics, science)\n",
    "print('높은 점수:', max_score)\n",
    "\n",
    "max_score = get_max_score(english, science)\n",
    "print('높은 점수:', max_score)"
   ]
  },
  {
   "cell_type": "code",
   "execution_count": 22,
   "id": "8173236e",
   "metadata": {},
   "outputs": [
    {
     "name": "stdout",
     "output_type": "stream",
     "text": [
      "20\n",
      "6765\n"
     ]
    }
   ],
   "source": [
    "#Q6\n",
    "def fib(n):\n",
    "    list = [0,1] # 피보나치 수는 0과 1로 시작\n",
    "    for i in range(n):\n",
    "        list.append(list[i] + list[i+1]) # 0항과 1항을 더한게 2항\n",
    "    return list[n]\n",
    "\n",
    "n = int(input())\n",
    "print(fib(n))"
   ]
  },
  {
   "cell_type": "code",
   "execution_count": 24,
   "id": "fc070aca",
   "metadata": {},
   "outputs": [
    {
     "name": "stdout",
     "output_type": "stream",
     "text": [
      "542.4 210.3 38\n",
      "베기\n"
     ]
    }
   ],
   "source": [
    "#Q7\n",
    "class Knight:\n",
    "    def __init__(self, h, m, a):\n",
    "        self.health = h\n",
    "        self.mana = m\n",
    "        self.armor = a\n",
    "\n",
    "    def slash(self):\n",
    "        print('베기')\n",
    "        \n",
    "x = Knight(542.4, 210.3, 38)\n",
    "print(x.health, x.mana, x.armor)\n",
    "x.slash()"
   ]
  }
 ],
 "metadata": {
  "kernelspec": {
   "display_name": "Python 3 (ipykernel)",
   "language": "python",
   "name": "python3"
  },
  "language_info": {
   "codemirror_mode": {
    "name": "ipython",
    "version": 3
   },
   "file_extension": ".py",
   "mimetype": "text/x-python",
   "name": "python",
   "nbconvert_exporter": "python",
   "pygments_lexer": "ipython3",
   "version": "3.9.12"
  }
 },
 "nbformat": 4,
 "nbformat_minor": 5
}
