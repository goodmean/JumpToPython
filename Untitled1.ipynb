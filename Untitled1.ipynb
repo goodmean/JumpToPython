{
 "cells": [
  {
   "cell_type": "code",
   "execution_count": 1,
   "id": "c64101c4",
   "metadata": {},
   "outputs": [
    {
     "name": "stdout",
     "output_type": "stream",
     "text": [
      "나무를 1번 찍었습니다.\n",
      "나무를 2번 찍었습니다.\n",
      "나무를 3번 찍었습니다.\n",
      "나무를 4번 찍었습니다.\n",
      "나무를 5번 찍었습니다.\n",
      "나무를 6번 찍었습니다.\n",
      "나무를 7번 찍었습니다.\n",
      "나무를 8번 찍었습니다.\n",
      "나무를 9번 찍었습니다.\n",
      "나무를 10번 찍었습니다.\n",
      "나무 넘어갑니다\n"
     ]
    }
   ],
   "source": [
    "treeHit = 0\n",
    "while treeHit < 10 :\n",
    "    treeHit += 1\n",
    "    print(\"나무를 %d번 찍었습니다.\" %treeHit)\n",
    "    if treeHit == 10 :\n",
    "        print(\"나무 넘어갑니다\")"
   ]
  },
  {
   "cell_type": "code",
   "execution_count": 2,
   "id": "1e0cbb9b",
   "metadata": {},
   "outputs": [
    {
     "name": "stdout",
     "output_type": "stream",
     "text": [
      "커피를 줍니다\n",
      "남은 커피의 개수는 9개 입니다.\n",
      "커피를 줍니다\n",
      "남은 커피의 개수는 8개 입니다.\n",
      "커피를 줍니다\n",
      "남은 커피의 개수는 7개 입니다.\n",
      "커피를 줍니다\n",
      "남은 커피의 개수는 6개 입니다.\n",
      "커피를 줍니다\n",
      "남은 커피의 개수는 5개 입니다.\n",
      "커피를 줍니다\n",
      "남은 커피의 개수는 4개 입니다.\n",
      "커피를 줍니다\n",
      "남은 커피의 개수는 3개 입니다.\n",
      "커피를 줍니다\n",
      "남은 커피의 개수는 2개 입니다.\n",
      "커피를 줍니다\n",
      "남은 커피의 개수는 1개 입니다.\n",
      "커피를 줍니다\n",
      "남은 커피의 개수는 0개 입니다.\n",
      "커피가 다 떨어졌습니다. 판매를 중지합니다.\n"
     ]
    }
   ],
   "source": [
    "coffee = 10\n",
    "while True:\n",
    "    print(\"커피를 줍니다\")\n",
    "    coffee -= 1\n",
    "    print(\"남은 커피의 개수는 %d개 입니다.\" %coffee)\n",
    "    if coffee == 0 :\n",
    "        print(\"커피가 다 떨어졌습니다. 판매를 중지합니다.\")\n",
    "        break"
   ]
  },
  {
   "cell_type": "code",
   "execution_count": 3,
   "id": "58de5ad5",
   "metadata": {},
   "outputs": [
    {
     "name": "stdout",
     "output_type": "stream",
     "text": [
      "얼마를 넣으시겠습니까? 300\n",
      "커피를 줍니다. 남은 커피는 9개 입니다\n",
      "얼마를 넣으시겠습니까? 300\n",
      "커피를 줍니다. 남은 커피는 8개 입니다\n",
      "얼마를 넣으시겠습니까? 300\n",
      "커피를 줍니다. 남은 커피는 7개 입니다\n",
      "얼마를 넣으시겠습니까? 3000\n",
      "거스름돈 2700원을 주고 커피를 줍니다. 남은 커피는 6개 입니다.\n",
      "얼마를 넣으시겠습니까? 30000\n",
      "거스름돈 29700원을 주고 커피를 줍니다. 남은 커피는 5개 입니다.\n",
      "얼마를 넣으시겠습니까? 3000000\n",
      "거스름돈 2999700원을 주고 커피를 줍니다. 남은 커피는 4개 입니다.\n",
      "얼마를 넣으시겠습니까? 3000\n",
      "거스름돈 2700원을 주고 커피를 줍니다. 남은 커피는 3개 입니다.\n",
      "얼마를 넣으시겠습니까? 300\n",
      "커피를 줍니다. 남은 커피는 2개 입니다\n",
      "얼마를 넣으시겠습니까? 300\n",
      "커피를 줍니다. 남은 커피는 1개 입니다\n",
      "얼마를 넣으시겠습니까? 3000\n",
      "거스름돈 2700원을 주고 커피를 줍니다. 남은 커피는 0개 입니다.\n",
      "커피가 다 떨어졌습니다. 판매를 중지합니다.\n"
     ]
    }
   ],
   "source": [
    "# coffee.py\n",
    "coffee = 10\n",
    "while True :\n",
    "    money = int(input(\"얼마를 넣으시겠습니까? \"))\n",
    "    if money == 300 :\n",
    "        coffee -= 1\n",
    "        print(\"커피를 줍니다. 남은 커피는 %d개 입니다\" %coffee)\n",
    "        \n",
    "    elif money > 300 :\n",
    "        coffee -= 1\n",
    "        print(\"거스름돈 %d원을 주고 커피를 줍니다. 남은 커피는 %d개 입니다.\" %((money-300), coffee))\n",
    "        \n",
    "    else :\n",
    "        print (\"커피는 300원입니다.\")\n",
    "    \n",
    "    if coffee == 0 :\n",
    "        print (\"커피가 다 떨어졌습니다. 판매를 중지합니다.\")\n",
    "        break"
   ]
  },
  {
   "cell_type": "code",
   "execution_count": 4,
   "id": "b5324481",
   "metadata": {},
   "outputs": [
    {
     "name": "stdout",
     "output_type": "stream",
     "text": [
      "1\n",
      "3\n",
      "5\n",
      "7\n",
      "9\n"
     ]
    }
   ],
   "source": [
    "a = 0\n",
    "while a < 10 :\n",
    "    a = a + 1\n",
    "    if a % 2 == 0 :\n",
    "        continue\n",
    "    print(a)"
   ]
  },
  {
   "cell_type": "code",
   "execution_count": 6,
   "id": "83e760c2",
   "metadata": {},
   "outputs": [
    {
     "name": "stdout",
     "output_type": "stream",
     "text": [
      "1\n",
      "2\n",
      "4\n",
      "5\n",
      "7\n",
      "8\n",
      "10\n"
     ]
    }
   ],
   "source": [
    "a = 0\n",
    "while a < 10 :\n",
    "    a = a + 1\n",
    "    if a % 3 == 0 :\n",
    "        continue\n",
    "    print(a)"
   ]
  },
  {
   "cell_type": "code",
   "execution_count": 7,
   "id": "e86627c4",
   "metadata": {},
   "outputs": [
    {
     "name": "stdout",
     "output_type": "stream",
     "text": [
      "3\n",
      "7\n",
      "11\n"
     ]
    }
   ],
   "source": [
    "a = [(1,2), (3,4), (5,6)]\n",
    "for (first, last) in a :\n",
    "    print(first + last)"
   ]
  },
  {
   "cell_type": "code",
   "execution_count": 8,
   "id": "312ab760",
   "metadata": {},
   "outputs": [
    {
     "name": "stdout",
     "output_type": "stream",
     "text": [
      "1번 학생은 합격입니다.\n",
      "2번 학생은 불합격입니다.\n",
      "3번 학생은 합격입니다.\n",
      "4번 학생은 불합격입니다.\n",
      "5번 학생은 합격입니다.\n"
     ]
    }
   ],
   "source": [
    "marks =[90, 25, 67, 45, 80]\n",
    "number = 0\n",
    "for mark in marks :\n",
    "    number += 1\n",
    "    \n",
    "    if mark >= 60 :\n",
    "        print(\"%d번 학생은 합격입니다.\" % number)\n",
    "    else :\n",
    "        print(\"%d번 학생은 불합격입니다.\" % number)"
   ]
  },
  {
   "cell_type": "code",
   "execution_count": 9,
   "id": "30c8774c",
   "metadata": {},
   "outputs": [
    {
     "name": "stdout",
     "output_type": "stream",
     "text": [
      "55\n"
     ]
    }
   ],
   "source": [
    "add = 0\n",
    "for i in range (1,11) :\n",
    "    add += i\n",
    "print(add)"
   ]
  },
  {
   "cell_type": "code",
   "execution_count": 10,
   "id": "04842b7c",
   "metadata": {},
   "outputs": [
    {
     "name": "stdout",
     "output_type": "stream",
     "text": [
      "5050\n"
     ]
    }
   ],
   "source": [
    "add = 0\n",
    "for i in range (1,101) :\n",
    "    add += i\n",
    "print(add)"
   ]
  },
  {
   "cell_type": "code",
   "execution_count": 14,
   "id": "810ca3d0",
   "metadata": {},
   "outputs": [
    {
     "name": "stdout",
     "output_type": "stream",
     "text": [
      "2단\n",
      "2x1=2 2x2=4 2x3=6 2x4=8 2x5=10 2x6=12 2x7=14 2x8=16 2x9=18 \n",
      "3단\n",
      "3x1=3 3x2=6 3x3=9 3x4=12 3x5=15 3x6=18 3x7=21 3x8=24 3x9=27 \n",
      "4단\n",
      "4x1=4 4x2=8 4x3=12 4x4=16 4x5=20 4x6=24 4x7=28 4x8=32 4x9=36 \n",
      "5단\n",
      "5x1=5 5x2=10 5x3=15 5x4=20 5x5=25 5x6=30 5x7=35 5x8=40 5x9=45 \n",
      "6단\n",
      "6x1=6 6x2=12 6x3=18 6x4=24 6x5=30 6x6=36 6x7=42 6x8=48 6x9=54 \n",
      "7단\n",
      "7x1=7 7x2=14 7x3=21 7x4=28 7x5=35 7x6=42 7x7=49 7x8=56 7x9=63 \n",
      "8단\n",
      "8x1=8 8x2=16 8x3=24 8x4=32 8x5=40 8x6=48 8x7=56 8x8=64 8x9=72 \n",
      "9단\n",
      "9x1=9 9x2=18 9x3=27 9x4=36 9x5=45 9x6=54 9x7=63 9x8=72 9x9=81 \n"
     ]
    }
   ],
   "source": [
    "for i in range(2, 10) :\n",
    "    print(\"{}단\".format(i))\n",
    "    for j in range(1, 10) :\n",
    "        print(\"{}x{}={}\".format(i, j, i*j), end=\" \")\n",
    "    print('')"
   ]
  },
  {
   "cell_type": "code",
   "execution_count": 16,
   "id": "9a9fa1c9",
   "metadata": {},
   "outputs": [
    {
     "name": "stdout",
     "output_type": "stream",
     "text": [
      "[6, 12]\n"
     ]
    }
   ],
   "source": [
    "a = [1,2,3,4]\n",
    "result = [num*3 for num in a if num%2 == 0]\n",
    "print(result)"
   ]
  },
  {
   "cell_type": "code",
   "execution_count": null,
   "id": "b5e0a903",
   "metadata": {},
   "outputs": [],
   "source": []
  }
 ],
 "metadata": {
  "kernelspec": {
   "display_name": "Python 3 (ipykernel)",
   "language": "python",
   "name": "python3"
  },
  "language_info": {
   "codemirror_mode": {
    "name": "ipython",
    "version": 3
   },
   "file_extension": ".py",
   "mimetype": "text/x-python",
   "name": "python",
   "nbconvert_exporter": "python",
   "pygments_lexer": "ipython3",
   "version": "3.9.12"
  }
 },
 "nbformat": 4,
 "nbformat_minor": 5
}
