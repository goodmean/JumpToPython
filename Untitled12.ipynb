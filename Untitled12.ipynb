{
 "cells": [
  {
   "cell_type": "code",
   "execution_count": 18,
   "id": "74c32d93",
   "metadata": {},
   "outputs": [
    {
     "name": "stdout",
     "output_type": "stream",
     "text": [
      "a#b#c#d\n"
     ]
    }
   ],
   "source": [
    "#Q1\n",
    "str = \"a:b:c:d\"\n",
    "a = str.split(\":\") # ':'을 기준으로 문자열을 자른다\n",
    "b = \"#\".join(a) # 문자열을 합치는데 #를 넣는다.\n",
    "print(b)"
   ]
  },
  {
   "cell_type": "code",
   "execution_count": 22,
   "id": "8cdf4c66",
   "metadata": {
    "scrolled": true
   },
   "outputs": [
    {
     "data": {
      "text/plain": [
       "70"
      ]
     },
     "execution_count": 22,
     "metadata": {},
     "output_type": "execute_result"
    }
   ],
   "source": [
    "#Q2\n",
    "a = {'A':90, 'B':80}\n",
    "a.get('C', 70)"
   ]
  },
  {
   "cell_type": "code",
   "execution_count": null,
   "id": "8b14b9e4",
   "metadata": {},
   "outputs": [],
   "source": [
    "#Q3\n",
    "# +는 두 리스트를 합쳐 새로운 리스트를 만들고,\n",
    "# extend는 기존 리스트에 새로운값을 포함시킨다."
   ]
  },
  {
   "cell_type": "code",
   "execution_count": 24,
   "id": "4c7b12b2",
   "metadata": {},
   "outputs": [
    {
     "name": "stdout",
     "output_type": "stream",
     "text": [
      "481\n"
     ]
    }
   ],
   "source": [
    "#Q4\n",
    "A = [20,55,67,82,45,33,90,87,100,25]\n",
    "sum = 0\n",
    "for i in A: # A를 순회하며\n",
    "    if i >= 50: # 50이상인 수는\n",
    "        sum += i # sum값에 합친다.\n",
    "print(sum)"
   ]
  },
  {
   "cell_type": "code",
   "execution_count": 38,
   "id": "70d46486",
   "metadata": {},
   "outputs": [
    {
     "name": "stdout",
     "output_type": "stream",
     "text": [
      "13\n",
      "[0, 1, 1, 2, 3, 5, 8, 13]\n"
     ]
    }
   ],
   "source": [
    "#Q5\n",
    "n = int(input())\n",
    "pibo = [] # pibo라는 리스트를 만들고\n",
    "pibo.extend([0,1]) # 0,1 을 넣는다.\n",
    "i = 0\n",
    "while True:\n",
    "    new = pibo[i] + pibo[i+1] # 0항과 1항을 더해서\n",
    "    if new > n: # n값 초과면 그만둔다.\n",
    "        break\n",
    "    pibo.append(new) # 아니라면 다음항(3항)에 더해준다.\n",
    "    i += 1 # i를 1씩 올려서 반복\n",
    "print(pibo)"
   ]
  },
  {
   "cell_type": "code",
   "execution_count": 2,
   "id": "7e3988d1",
   "metadata": {},
   "outputs": [
    {
     "name": "stdout",
     "output_type": "stream",
     "text": [
      "65,43,53,65,1\n",
      "227\n"
     ]
    }
   ],
   "source": [
    "#Q6\n",
    "a = list(map(int, input().split(\",\")))\n",
    "result = 0\n",
    "for i in a:\n",
    "    result += i\n",
    "print(result)"
   ]
  },
  {
   "cell_type": "code",
   "execution_count": 39,
   "id": "02ae92db",
   "metadata": {},
   "outputs": [
    {
     "name": "stdout",
     "output_type": "stream",
     "text": [
      "2\n",
      "2 4 6 8 10 12 14 16 18 "
     ]
    }
   ],
   "source": [
    "#Q7 한 줄 구구단\n",
    "num = int(input())\n",
    "for i in range(1,10):\n",
    "    print(num*i, end=\" \")"
   ]
  },
  {
   "cell_type": "code",
   "execution_count": 47,
   "id": "6545fa66",
   "metadata": {},
   "outputs": [],
   "source": [
    "#8 역순 저장(답보고함)\n",
    "f = open(\"C:/work/Python/abc.txt\", 'r')\n",
    "lines = f.readlines()\n",
    "lines.reverse()\n",
    "f.close()\n",
    "\n",
    "f = open(\"C:/work/Python/abc.txt\", 'w')\n",
    "for line in lines:\n",
    "    line = line.strip()\n",
    "    f.write(line)\n",
    "    f.write('\\n')\n",
    "f.close()"
   ]
  },
  {
   "cell_type": "code",
   "execution_count": 63,
   "id": "b4723cf8",
   "metadata": {
    "scrolled": false
   },
   "outputs": [
    {
     "ename": "TypeError",
     "evalue": "'str' object is not callable",
     "output_type": "error",
     "traceback": [
      "\u001b[1;31m---------------------------------------------------------------------------\u001b[0m",
      "\u001b[1;31mTypeError\u001b[0m                                 Traceback (most recent call last)",
      "Input \u001b[1;32mIn [63]\u001b[0m, in \u001b[0;36m<cell line: 12>\u001b[1;34m()\u001b[0m\n\u001b[0;32m     10\u001b[0m average \u001b[38;5;241m=\u001b[39m total \u001b[38;5;241m/\u001b[39m \u001b[38;5;28mlen\u001b[39m(lines)\n\u001b[0;32m     11\u001b[0m f\u001b[38;5;241m=\u001b[39m \u001b[38;5;28mopen\u001b[39m(\u001b[38;5;124m\"\u001b[39m\u001b[38;5;124mC:/work/Python/result.txt\u001b[39m\u001b[38;5;124m\"\u001b[39m, \u001b[38;5;124m\"\u001b[39m\u001b[38;5;124mw\u001b[39m\u001b[38;5;124m\"\u001b[39m)\n\u001b[1;32m---> 12\u001b[0m f\u001b[38;5;241m.\u001b[39mwrite(\u001b[38;5;28;43mstr\u001b[39;49m\u001b[43m(\u001b[49m\u001b[43maverage\u001b[49m\u001b[43m)\u001b[49m)\n\u001b[0;32m     13\u001b[0m f\u001b[38;5;241m.\u001b[39mclose()\n",
      "\u001b[1;31mTypeError\u001b[0m: 'str' object is not callable"
     ]
    }
   ],
   "source": [
    "#9 평균값 구하기\n",
    "f = open(\"C:/work/Python/sample.txt\")\n",
    "lines = f.readlines()\n",
    "f.close()\n",
    "\n",
    "total = 0\n",
    "for line in lines:\n",
    "    score = int(line)\n",
    "    total += score\n",
    "average = total / len(lines)\n",
    "f= open(\"C:/work/Python/result.txt\", \"w\")\n",
    "f.write(str(average))\n",
    "f.close()"
   ]
  }
 ],
 "metadata": {
  "kernelspec": {
   "display_name": "Python 3 (ipykernel)",
   "language": "python",
   "name": "python3"
  },
  "language_info": {
   "codemirror_mode": {
    "name": "ipython",
    "version": 3
   },
   "file_extension": ".py",
   "mimetype": "text/x-python",
   "name": "python",
   "nbconvert_exporter": "python",
   "pygments_lexer": "ipython3",
   "version": "3.9.12"
  }
 },
 "nbformat": 4,
 "nbformat_minor": 5
}
