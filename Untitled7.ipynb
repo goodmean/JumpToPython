{
 "cells": [
  {
   "cell_type": "code",
   "execution_count": 6,
   "id": "bdc570cc",
   "metadata": {},
   "outputs": [
    {
     "name": "stdout",
     "output_type": "stream",
     "text": [
      "10023\n",
      "141\n"
     ]
    }
   ],
   "source": [
    "sum = int(input()) # 입력받는 합 값\n",
    "num = 1 # 1부터 1씩 증가할 자연수\n",
    "numbers = [] # 자연수를 넣을 리스트\n",
    "while True:\n",
    "    sum -= num # 합 값에서 숫자를 1부터 차례대로 뺀다\n",
    "    numbers.append(num) # 뺀 값을 리스트에 저장한다\n",
    "    if sum <= num: # 만약 남은 합 값이 방금 뺀 수보다 같거나 작다면(숫자중복)\n",
    "        numbers.remove(num) # 리스트에 있는 남은 합 값과 같은 숫자를 제거한 후\n",
    "        numbers.append(num*2) # 제거한 수를 남은 합 값에 더한다.(*2 와 같음)\n",
    "        break\n",
    "    num += 1\n",
    "print(len(numbers)) # 리스트 길이를 출력"
   ]
  },
  {
   "cell_type": "code",
   "execution_count": 23,
   "id": "09c2acd8",
   "metadata": {},
   "outputs": [
    {
     "name": "stdout",
     "output_type": "stream",
     "text": [
      "1999\n",
      "0\n"
     ]
    }
   ],
   "source": [
    "year = int(input())\n",
    "\n",
    "if year % 4 == 0:\n",
    "    if year % 100 != 0 or year % 400 == 0:\n",
    "        print(1)\n",
    "    else:\n",
    "        print(0)\n",
    "else:\n",
    "    print(0)"
   ]
  },
  {
   "cell_type": "code",
   "execution_count": 33,
   "id": "f8fc05d0",
   "metadata": {},
   "outputs": [
    {
     "name": "stdout",
     "output_type": "stream",
     "text": [
      "10\n",
      "650\n",
      "20\n",
      "20\n",
      "20\n",
      "162\n"
     ]
    }
   ],
   "source": [
    "sum = 0\n",
    "num = 0\n",
    "for i in range(5):\n",
    "    num = int(input())\n",
    "    if num < 40:\n",
    "        num = 40\n",
    "    sum += num\n",
    "print(sum//5)"
   ]
  },
  {
   "cell_type": "code",
   "execution_count": 40,
   "id": "5c40bc38",
   "metadata": {},
   "outputs": [
    {
     "name": "stdout",
     "output_type": "stream",
     "text": [
      "3\n",
      "1 45000\n",
      "45000\n",
      "6 10\n",
      "30\n",
      "13 17\n",
      "221\n"
     ]
    }
   ],
   "source": [
    "t = int(input())\n",
    "i = 0\n",
    "for j in range(t):\n",
    "    a, b = map(int,input().split())\n",
    "    if a >= b:\n",
    "        i = a\n",
    "    else:\n",
    "        i = b\n",
    "    for k in range(i):\n",
    "        if i % a == 0 and i % b == 0:\n",
    "            print(i)\n",
    "            break\n",
    "        i += 1"
   ]
  },
  {
   "cell_type": "code",
   "execution_count": 46,
   "id": "a123c22d",
   "metadata": {
    "scrolled": true
   },
   "outputs": [
    {
     "name": "stdout",
     "output_type": "stream",
     "text": [
      "14 30 0\n",
      "500000\n",
      "9 23 20\n"
     ]
    }
   ],
   "source": [
    "a, b, c = map(int, input().split())\n",
    "d = int(input())\n",
    "\n",
    "c += d\n",
    "if (c >= 60):\n",
    "    i = c // 60\n",
    "    c -= i*60\n",
    "    b += i\n",
    "\n",
    "if (b >= 60):\n",
    "    i = b // 60\n",
    "    b -= i*60\n",
    "    a += i\n",
    "    \n",
    "if (a >= 24):\n",
    "    i = a // 24\n",
    "    a -= i*24\n",
    "    \n",
    "print(\"{} {} {}\".format(a, b, c))"
   ]
  },
  {
   "cell_type": "code",
   "execution_count": 84,
   "id": "f5baed1b",
   "metadata": {},
   "outputs": [
    {
     "name": "stdout",
     "output_type": "stream",
     "text": [
      "3 3 3\n",
      "13000\n"
     ]
    }
   ],
   "source": [
    "a, b, c = map(int, input().split())\n",
    "if a == b == c:\n",
    "    print(10000+a*1000)\n",
    "elif a == b or a == c:\n",
    "    print(1000+a*100)\n",
    "elif b == c:\n",
    "    print(1000+b*100)\n",
    "else:\n",
    "    if a > b and a > c:\n",
    "        print(a*100)\n",
    "    elif b > a and b > c:\n",
    "        print(b*100)\n",
    "    else:\n",
    "        print(c*100)"
   ]
  }
 ],
 "metadata": {
  "kernelspec": {
   "display_name": "Python 3 (ipykernel)",
   "language": "python",
   "name": "python3"
  },
  "language_info": {
   "codemirror_mode": {
    "name": "ipython",
    "version": 3
   },
   "file_extension": ".py",
   "mimetype": "text/x-python",
   "name": "python",
   "nbconvert_exporter": "python",
   "pygments_lexer": "ipython3",
   "version": "3.9.12"
  }
 },
 "nbformat": 4,
 "nbformat_minor": 5
}
