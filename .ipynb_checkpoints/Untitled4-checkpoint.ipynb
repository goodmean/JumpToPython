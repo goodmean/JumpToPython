{
 "cells": [
  {
   "cell_type": "code",
   "execution_count": 1,
   "id": "1dd38559",
   "metadata": {
    "collapsed": true
   },
   "outputs": [
    {
     "ename": "SyntaxError",
     "evalue": "invalid syntax (610597137.py, line 2)",
     "output_type": "error",
     "traceback": [
      "\u001b[1;36m  Input \u001b[1;32mIn [1]\u001b[1;36m\u001b[0m\n\u001b[1;33m    a. for i in range(10)\u001b[0m\n\u001b[1;37m       ^\u001b[0m\n\u001b[1;31mSyntaxError\u001b[0m\u001b[1;31m:\u001b[0m invalid syntax\n"
     ]
    }
   ],
   "source": [
    "#Q1 for로 10번 반복하는 방법으로 올바른 것\n",
    "a. for i in range(10)\n",
    "d. for i in range(20, 40, 2)"
   ]
  },
  {
   "cell_type": "code",
   "execution_count": null,
   "id": "def791c0",
   "metadata": {},
   "outputs": [],
   "source": [
    "#Q2 for 반복문 수행결과\n",
    "d. n.o.h.t.y.P."
   ]
  },
  {
   "cell_type": "code",
   "execution_count": 1,
   "id": "62136e33",
   "metadata": {},
   "outputs": [
    {
     "name": "stdout",
     "output_type": "stream",
     "text": [
      "490 -170 250 1020 80 620 210 "
     ]
    }
   ],
   "source": [
    "#Q3 리스트 각 숫자에 10 곱한 값을 출력\n",
    "x = [49, -17, 25, 102, 8, 62, 21]\n",
    "for i in x:\n",
    "    print(i * 10, end=\" \")"
   ]
  },
  {
   "cell_type": "code",
   "execution_count": null,
   "id": "bd2ad9ef",
   "metadata": {},
   "outputs": [],
   "source": [
    "#Q4 while반복문 실행결과\n",
    "d. 10 12 14 16 18"
   ]
  },
  {
   "cell_type": "code",
   "execution_count": 5,
   "id": "421313b7",
   "metadata": {},
   "outputs": [
    {
     "name": "stdout",
     "output_type": "stream",
     "text": [
      "3 13 23 33 43 53 63 73 "
     ]
    }
   ],
   "source": [
    "#Q5 0과 73사이의 숫자중 3으로 끝나는 숫자만 출력\n",
    "i = 0\n",
    "while True:\n",
    "    if (i % 10 != 3):\n",
    "        i += 1\n",
    "        continue\n",
    "    if (i > 73):\n",
    "        break\n",
    "    print(i, end=' ')\n",
    "    i += 1"
   ]
  },
  {
   "cell_type": "code",
   "execution_count": 7,
   "id": "8bddcf4b",
   "metadata": {},
   "outputs": [
    {
     "name": "stdout",
     "output_type": "stream",
     "text": [
      "1 100\n",
      "100\n"
     ]
    }
   ],
   "source": [
    "a, i = map(int, input().split())\n",
    "i -= 1\n",
    "i += 0.01\n",
    "d = int(a * i)\n",
    "print(d+1)"
   ]
  },
  {
   "cell_type": "code",
   "execution_count": null,
   "id": "dfdbb92d",
   "metadata": {},
   "outputs": [],
   "source": []
  }
 ],
 "metadata": {
  "kernelspec": {
   "display_name": "Python 3 (ipykernel)",
   "language": "python",
   "name": "python3"
  },
  "language_info": {
   "codemirror_mode": {
    "name": "ipython",
    "version": 3
   },
   "file_extension": ".py",
   "mimetype": "text/x-python",
   "name": "python",
   "nbconvert_exporter": "python",
   "pygments_lexer": "ipython3",
   "version": "3.9.12"
  }
 },
 "nbformat": 4,
 "nbformat_minor": 5
}
