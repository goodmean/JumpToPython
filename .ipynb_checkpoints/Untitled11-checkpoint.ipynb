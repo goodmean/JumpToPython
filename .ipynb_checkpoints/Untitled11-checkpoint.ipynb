{
 "cells": [
  {
   "cell_type": "code",
   "execution_count": 12,
   "id": "9d8c4b6e",
   "metadata": {},
   "outputs": [
    {
     "name": "stdout",
     "output_type": "stream",
     "text": [
      "6\n",
      "8\n",
      "2\n",
      "2.0\n"
     ]
    }
   ],
   "source": [
    "class FourCal:\n",
    "    def __init__(self, fir, sec): # self는 객체 a\n",
    "        self.first = fir # a에 first라는 변수를 만들고 fir에 받은값을넣음\n",
    "        self.second = sec # a에 second ~~ sec ~~\n",
    "    def add(self): # add는 객체만 받아서\n",
    "        result = self.first + self.second # a에 있는 first와 second를 더함\n",
    "        return result\n",
    "    def mul(self):\n",
    "        result = self.first * self.second\n",
    "        return result\n",
    "    def sub(self):\n",
    "        result = self.first - self.second\n",
    "        return result\n",
    "    def div(self):\n",
    "        result = self.first / self.second\n",
    "        return result\n",
    "    \n",
    "a = FourCal(4,2) # a만의 Fourcal을 복사한다고 생각하면 편함\n",
    "print(a.add())\n",
    "print(a.mul())\n",
    "print(a.sub())\n",
    "print(a.div())"
   ]
  },
  {
   "cell_type": "code",
   "execution_count": null,
   "id": "ac289f61",
   "metadata": {},
   "outputs": [],
   "source": []
  }
 ],
 "metadata": {
  "kernelspec": {
   "display_name": "Python 3 (ipykernel)",
   "language": "python",
   "name": "python3"
  },
  "language_info": {
   "codemirror_mode": {
    "name": "ipython",
    "version": 3
   },
   "file_extension": ".py",
   "mimetype": "text/x-python",
   "name": "python",
   "nbconvert_exporter": "python",
   "pygments_lexer": "ipython3",
   "version": "3.9.12"
  }
 },
 "nbformat": 4,
 "nbformat_minor": 5
}
