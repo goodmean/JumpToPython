{
 "cells": [
  {
   "cell_type": "code",
   "execution_count": 2,
   "id": "6e5fe6bf",
   "metadata": {},
   "outputs": [],
   "source": [
    "def say_myself(name, old, man=True):\n",
    "    print(\"나의 이름은 {}입니다\".format(name))\n",
    "    print(\"나이는 %d살 입니다.\" % old)\n",
    "    if man:\n",
    "        print(\"남자입니다\")\n",
    "    else:\n",
    "        print(\"여자입니다\")"
   ]
  },
  {
   "cell_type": "code",
   "execution_count": 4,
   "id": "db80b497",
   "metadata": {},
   "outputs": [
    {
     "name": "stdout",
     "output_type": "stream",
     "text": [
      "나의 이름은 박응용입니다\n",
      "나이는 27살 입니다.\n",
      "남자입니다\n"
     ]
    }
   ],
   "source": [
    "say_myself(\"박응용\", 27)"
   ]
  },
  {
   "cell_type": "code",
   "execution_count": 5,
   "id": "d67518f1",
   "metadata": {},
   "outputs": [
    {
     "name": "stdout",
     "output_type": "stream",
     "text": [
      "나의 이름은 박응용입니다\n",
      "나이는 27살 입니다.\n",
      "여자입니다\n"
     ]
    }
   ],
   "source": [
    "say_myself(\"박응용\", 27, False)"
   ]
  },
  {
   "cell_type": "code",
   "execution_count": 8,
   "id": "9cccb4c5",
   "metadata": {},
   "outputs": [],
   "source": [
    "f = open(\"새파일.txt\", 'w')\n",
    "f.close()"
   ]
  },
  {
   "cell_type": "code",
   "execution_count": 9,
   "id": "1c77aea5",
   "metadata": {},
   "outputs": [],
   "source": [
    "f = open(\"C:/work/Python/새파일.txt\", 'w')\n",
    "f.close()"
   ]
  },
  {
   "cell_type": "code",
   "execution_count": 11,
   "id": "aec75c5d",
   "metadata": {},
   "outputs": [],
   "source": [
    "f = open(\"C:/work/Python/새파일.txt\", 'w')\n",
    "for i in range(1, 11):\n",
    "    data = \"%d번째 줄입니다.\\n\" % i\n",
    "    f.write(data)\n",
    "f.close()"
   ]
  },
  {
   "cell_type": "code",
   "execution_count": 12,
   "id": "d06acc89",
   "metadata": {},
   "outputs": [
    {
     "name": "stdout",
     "output_type": "stream",
     "text": [
      "1번째 줄입니다.\n",
      "\n"
     ]
    }
   ],
   "source": [
    "f= open(\"c:/work/Python/새파일.txt\", 'r')\n",
    "line = f.readline()\n",
    "print(line)\n",
    "f.close()"
   ]
  },
  {
   "cell_type": "code",
   "execution_count": 13,
   "id": "3309b147",
   "metadata": {},
   "outputs": [],
   "source": [
    "f= open(\"c:/work/Python/새파일.txt\", \"a\")\n",
    "for i in range(11, 20):\n",
    "    data = \"%d번째 줄입니다.\\n\" % i\n",
    "    f.write(data)\n",
    "f.close()"
   ]
  },
  {
   "cell_type": "code",
   "execution_count": 16,
   "id": "74761b5f",
   "metadata": {},
   "outputs": [
    {
     "ename": "SyntaxError",
     "evalue": "invalid syntax (4160929901.py, line 1)",
     "output_type": "error",
     "traceback": [
      "\u001b[1;36m  Input \u001b[1;32mIn [16]\u001b[1;36m\u001b[0m\n\u001b[1;33m    f = open(\"foo.txt\", 'w') as f:\u001b[0m\n\u001b[1;37m                             ^\u001b[0m\n\u001b[1;31mSyntaxError\u001b[0m\u001b[1;31m:\u001b[0m invalid syntax\n"
     ]
    }
   ],
   "source": [
    "f = open(\"foo.txt\", 'w') as f:\n",
    "    f.write(\"Life is too short, you need python\")"
   ]
  }
 ],
 "metadata": {
  "kernelspec": {
   "display_name": "Python 3 (ipykernel)",
   "language": "python",
   "name": "python3"
  },
  "language_info": {
   "codemirror_mode": {
    "name": "ipython",
    "version": 3
   },
   "file_extension": ".py",
   "mimetype": "text/x-python",
   "name": "python",
   "nbconvert_exporter": "python",
   "pygments_lexer": "ipython3",
   "version": "3.9.12"
  }
 },
 "nbformat": 4,
 "nbformat_minor": 5
}
