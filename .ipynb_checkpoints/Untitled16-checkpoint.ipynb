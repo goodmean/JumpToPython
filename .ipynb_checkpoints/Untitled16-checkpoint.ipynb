{
 "cells": [
  {
   "cell_type": "code",
   "execution_count": 6,
   "id": "99f45c65",
   "metadata": {},
   "outputs": [
    {
     "name": "stdout",
     "output_type": "stream",
     "text": [
      "3\n",
      "3 @ %\n",
      "14.00\n",
      "10.4 # % @\n",
      "25.20\n",
      "8 #\n",
      "1.00\n"
     ]
    }
   ],
   "source": [
    "t = int(input())\n",
    "for i in range(t):\n",
    "    case = list(input().split())\n",
    "    a = float(case[0])\n",
    "    for j in range(1, len(case)):\n",
    "        if case[j] == \"@\":\n",
    "            a *= 3\n",
    "        elif case[j] == \"%\":\n",
    "            a += 5\n",
    "        else:\n",
    "            a -= 7\n",
    "    print(\"%.2f\" % a)"
   ]
  },
  {
   "cell_type": "code",
   "execution_count": null,
   "id": "29c7ba50",
   "metadata": {},
   "outputs": [],
   "source": []
  }
 ],
 "metadata": {
  "kernelspec": {
   "display_name": "Python 3 (ipykernel)",
   "language": "python",
   "name": "python3"
  },
  "language_info": {
   "codemirror_mode": {
    "name": "ipython",
    "version": 3
   },
   "file_extension": ".py",
   "mimetype": "text/x-python",
   "name": "python",
   "nbconvert_exporter": "python",
   "pygments_lexer": "ipython3",
   "version": "3.9.12"
  }
 },
 "nbformat": 4,
 "nbformat_minor": 5
}
