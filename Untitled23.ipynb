{
 "cells": [
  {
   "cell_type": "code",
   "execution_count": null,
   "id": "d6536f20",
   "metadata": {},
   "outputs": [],
   "source": [
    "n, k = map(int, input().split())\n",
    "for i in range(n):\n",
    "    w, v = map(int, input().split())\n",
    "    listw = []\n",
    "    listv = []\n",
    "    listw.append(w)\n",
    "    listv.append(v)\n",
    "for i in listw:\n",
    "    \n",
    "    \n"
   ]
  }
 ],
 "metadata": {
  "kernelspec": {
   "display_name": "Python 3 (ipykernel)",
   "language": "python",
   "name": "python3"
  },
  "language_info": {
   "codemirror_mode": {
    "name": "ipython",
    "version": 3
   },
   "file_extension": ".py",
   "mimetype": "text/x-python",
   "name": "python",
   "nbconvert_exporter": "python",
   "pygments_lexer": "ipython3",
   "version": "3.9.12"
  }
 },
 "nbformat": 4,
 "nbformat_minor": 5
}
