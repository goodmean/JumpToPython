{
 "cells": [
  {
   "cell_type": "code",
   "execution_count": 1,
   "id": "02bef464",
   "metadata": {},
   "outputs": [
    {
     "name": "stdout",
     "output_type": "stream",
     "text": [
      "1 19\n",
      "No\n",
      "4 4\n",
      "No\n",
      "23 14\n",
      "Yes\n",
      "0 0\n"
     ]
    }
   ],
   "source": [
    "while True:\n",
    "    a, b = map(int, input().split())\n",
    "    if a > b:\n",
    "        print(\"Yes\")\n",
    "    elif a == 0 and b == 0:\n",
    "        break\n",
    "    else:\n",
    "        print(\"No\")"
   ]
  },
  {
   "cell_type": "code",
   "execution_count": 4,
   "id": "424de6e4",
   "metadata": {},
   "outputs": [
    {
     "name": "stdout",
     "output_type": "stream",
     "text": [
      "300 4 1000\n",
      "200\n"
     ]
    }
   ],
   "source": [
    "price, count, money = map(int, input().split())\n",
    "result = price*count-money\n",
    "if result < 0:\n",
    "    print(0)\n",
    "else:\n",
    "    print(result)"
   ]
  },
  {
   "cell_type": "code",
   "execution_count": 8,
   "id": "8179f7a0",
   "metadata": {},
   "outputs": [
    {
     "name": "stdout",
     "output_type": "stream",
     "text": [
      "5 5\n",
      "5 7\n",
      "7 5\n",
      "7 7\n"
     ]
    }
   ],
   "source": [
    "a1, a2 = map(int, input().split())\n",
    "b1, b2 = map(int, input().split())\n",
    "c1, c2 = map(int, input().split())\n",
    "d1, d2 = 0, 0\n",
    "\n",
    "if a1 == b1:\n",
    "    d1 = c1\n",
    "elif a1 == c1:\n",
    "    d1 = b1\n",
    "else:\n",
    "    d1 = a1\n",
    "\n",
    "if a2 == b2:\n",
    "    d2 = c2\n",
    "elif a2 == c2:\n",
    "    d2 = b2\n",
    "else:\n",
    "    d2 = a2\n",
    "    \n",
    "print(d1, d2)"
   ]
  },
  {
   "cell_type": "code",
   "execution_count": 14,
   "id": "b8bf22be",
   "metadata": {},
   "outputs": [
    {
     "name": "stdout",
     "output_type": "stream",
     "text": [
      "3\n",
      "3 3 6\n",
      "2 2 2\n",
      "6 2 5\n",
      "12000\n"
     ]
    }
   ],
   "source": [
    "n = int(input())\n",
    "result = []\n",
    "for i in range(n):\n",
    "    a, b, c = map(int, input().split())\n",
    "    if a == b == c:\n",
    "        result.append(a*1000+10000)\n",
    "    elif a == b or a == c:\n",
    "        result.append(a*100+1000)\n",
    "    elif b == c:\n",
    "        result.append(b*100+1000)\n",
    "    else:\n",
    "        if a > b and a > c:\n",
    "            result.append(a*100)\n",
    "        elif b > c:\n",
    "            result.append(b*100)\n",
    "        else:\n",
    "            result.append(c*100)\n",
    "print(max(result))"
   ]
  },
  {
   "cell_type": "code",
   "execution_count": 19,
   "id": "d1df42b0",
   "metadata": {},
   "outputs": [
    {
     "name": "stdout",
     "output_type": "stream",
     "text": [
      "A+\n",
      "4.3\n"
     ]
    }
   ],
   "source": [
    "score = {'A+' : 4.3, 'A0' : 4.0, 'A-' : 3.7,\n",
    "        'B+' : 3.3, 'B0' : 3.0, 'B-' : 2.7,\n",
    "        'C+' : 2.3, 'C0' : 2.0, 'C-' : 1.7,\n",
    "        'D+' : 1.3, 'D0' : 1.0, 'D-' : 0.7,\n",
    "        'F' : 0.0}\n",
    "a = input()\n",
    "print(score[a])"
   ]
  },
  {
   "cell_type": "code",
   "execution_count": 23,
   "id": "de7eab5b",
   "metadata": {},
   "outputs": [
    {
     "name": "stdout",
     "output_type": "stream",
     "text": [
      "0 30\n",
      "23 45\n"
     ]
    }
   ],
   "source": [
    "h, m = map(int, input().split())\n",
    "m -= 45\n",
    "if m < 0:\n",
    "    h -= 1\n",
    "    m += 60\n",
    "if h < 0:\n",
    "    h += 24\n",
    "print(h, m)"
   ]
  },
  {
   "cell_type": "code",
   "execution_count": 38,
   "id": "6b6cf489",
   "metadata": {},
   "outputs": [
    {
     "ename": "KeyboardInterrupt",
     "evalue": "Interrupted by user",
     "output_type": "error",
     "traceback": [
      "\u001b[1;31m---------------------------------------------------------------------------\u001b[0m",
      "\u001b[1;31mKeyboardInterrupt\u001b[0m                         Traceback (most recent call last)",
      "Input \u001b[1;32mIn [38]\u001b[0m, in \u001b[0;36m<cell line: 1>\u001b[1;34m()\u001b[0m\n\u001b[1;32m----> 1\u001b[0m a \u001b[38;5;241m=\u001b[39m \u001b[38;5;28;43minput\u001b[39;49m\u001b[43m(\u001b[49m\u001b[43m)\u001b[49m\n\u001b[0;32m      2\u001b[0m result \u001b[38;5;241m=\u001b[39m \u001b[38;5;241m10\u001b[39m \u001b[38;5;66;03m# 첫 그릇의 높이는 10cm\u001b[39;00m\n\u001b[0;32m      3\u001b[0m \u001b[38;5;28;01mfor\u001b[39;00m i \u001b[38;5;129;01min\u001b[39;00m \u001b[38;5;28mrange\u001b[39m(\u001b[38;5;241m1\u001b[39m, \u001b[38;5;28mlen\u001b[39m(a)): \u001b[38;5;66;03m# a[1]부터 순환\u001b[39;00m\n",
      "File \u001b[1;32m~\\anaconda3\\lib\\site-packages\\ipykernel\\kernelbase.py:1075\u001b[0m, in \u001b[0;36mKernel.raw_input\u001b[1;34m(self, prompt)\u001b[0m\n\u001b[0;32m   1071\u001b[0m \u001b[38;5;28;01mif\u001b[39;00m \u001b[38;5;129;01mnot\u001b[39;00m \u001b[38;5;28mself\u001b[39m\u001b[38;5;241m.\u001b[39m_allow_stdin:\n\u001b[0;32m   1072\u001b[0m     \u001b[38;5;28;01mraise\u001b[39;00m StdinNotImplementedError(\n\u001b[0;32m   1073\u001b[0m         \u001b[38;5;124m\"\u001b[39m\u001b[38;5;124mraw_input was called, but this frontend does not support input requests.\u001b[39m\u001b[38;5;124m\"\u001b[39m\n\u001b[0;32m   1074\u001b[0m     )\n\u001b[1;32m-> 1075\u001b[0m \u001b[38;5;28;01mreturn\u001b[39;00m \u001b[38;5;28;43mself\u001b[39;49m\u001b[38;5;241;43m.\u001b[39;49m\u001b[43m_input_request\u001b[49m\u001b[43m(\u001b[49m\n\u001b[0;32m   1076\u001b[0m \u001b[43m    \u001b[49m\u001b[38;5;28;43mstr\u001b[39;49m\u001b[43m(\u001b[49m\u001b[43mprompt\u001b[49m\u001b[43m)\u001b[49m\u001b[43m,\u001b[49m\n\u001b[0;32m   1077\u001b[0m \u001b[43m    \u001b[49m\u001b[38;5;28;43mself\u001b[39;49m\u001b[38;5;241;43m.\u001b[39;49m\u001b[43m_parent_ident\u001b[49m\u001b[43m[\u001b[49m\u001b[38;5;124;43m\"\u001b[39;49m\u001b[38;5;124;43mshell\u001b[39;49m\u001b[38;5;124;43m\"\u001b[39;49m\u001b[43m]\u001b[49m\u001b[43m,\u001b[49m\n\u001b[0;32m   1078\u001b[0m \u001b[43m    \u001b[49m\u001b[38;5;28;43mself\u001b[39;49m\u001b[38;5;241;43m.\u001b[39;49m\u001b[43mget_parent\u001b[49m\u001b[43m(\u001b[49m\u001b[38;5;124;43m\"\u001b[39;49m\u001b[38;5;124;43mshell\u001b[39;49m\u001b[38;5;124;43m\"\u001b[39;49m\u001b[43m)\u001b[49m\u001b[43m,\u001b[49m\n\u001b[0;32m   1079\u001b[0m \u001b[43m    \u001b[49m\u001b[43mpassword\u001b[49m\u001b[38;5;241;43m=\u001b[39;49m\u001b[38;5;28;43;01mFalse\u001b[39;49;00m\u001b[43m,\u001b[49m\n\u001b[0;32m   1080\u001b[0m \u001b[43m\u001b[49m\u001b[43m)\u001b[49m\n",
      "File \u001b[1;32m~\\anaconda3\\lib\\site-packages\\ipykernel\\kernelbase.py:1120\u001b[0m, in \u001b[0;36mKernel._input_request\u001b[1;34m(self, prompt, ident, parent, password)\u001b[0m\n\u001b[0;32m   1117\u001b[0m             \u001b[38;5;28;01mbreak\u001b[39;00m\n\u001b[0;32m   1118\u001b[0m \u001b[38;5;28;01mexcept\u001b[39;00m \u001b[38;5;167;01mKeyboardInterrupt\u001b[39;00m:\n\u001b[0;32m   1119\u001b[0m     \u001b[38;5;66;03m# re-raise KeyboardInterrupt, to truncate traceback\u001b[39;00m\n\u001b[1;32m-> 1120\u001b[0m     \u001b[38;5;28;01mraise\u001b[39;00m \u001b[38;5;167;01mKeyboardInterrupt\u001b[39;00m(\u001b[38;5;124m\"\u001b[39m\u001b[38;5;124mInterrupted by user\u001b[39m\u001b[38;5;124m\"\u001b[39m) \u001b[38;5;28;01mfrom\u001b[39;00m \u001b[38;5;28mNone\u001b[39m\n\u001b[0;32m   1121\u001b[0m \u001b[38;5;28;01mexcept\u001b[39;00m \u001b[38;5;167;01mException\u001b[39;00m:\n\u001b[0;32m   1122\u001b[0m     \u001b[38;5;28mself\u001b[39m\u001b[38;5;241m.\u001b[39mlog\u001b[38;5;241m.\u001b[39mwarning(\u001b[38;5;124m\"\u001b[39m\u001b[38;5;124mInvalid Message:\u001b[39m\u001b[38;5;124m\"\u001b[39m, exc_info\u001b[38;5;241m=\u001b[39m\u001b[38;5;28;01mTrue\u001b[39;00m)\n",
      "\u001b[1;31mKeyboardInterrupt\u001b[0m: Interrupted by user"
     ]
    }
   ],
   "source": [
    "a = input()\n",
    "result = 10 # 첫 그릇의 높이는 10cm\n",
    "for i in range(1, len(a)): # a[1]부터 순환\n",
    "    if a[i] == a[i-1]: # 전 항과 그릇의 방향이 같다면 + 5cm\n",
    "        result += 5\n",
    "    else:              # 다르다면 +10cm\n",
    "        result += 10\n",
    "print(result)"
   ]
  },
  {
   "cell_type": "code",
   "execution_count": 42,
   "id": "0eac2f3e",
   "metadata": {},
   "outputs": [
    {
     "name": "stdout",
     "output_type": "stream",
     "text": [
      "3\n",
      "0 100 70\n",
      "advertise\n",
      "100 130 30\n",
      "does not matter\n",
      "-100 -70 40\n",
      "do not advertise\n"
     ]
    }
   ],
   "source": [
    "n = int(input())\n",
    "for i in range(n):\n",
    "    r, e, c = map(int, input().split())\n",
    "    if r < e - c:\n",
    "        print(\"advertise\")\n",
    "    elif r > e - c:\n",
    "        print(\"do not advertise\")\n",
    "    else:\n",
    "        print(\"does not matter\")"
   ]
  },
  {
   "cell_type": "code",
   "execution_count": 43,
   "id": "531f4055",
   "metadata": {},
   "outputs": [
    {
     "name": "stdout",
     "output_type": "stream",
     "text": [
      "6\n",
      "ABBABB\n",
      "B\n"
     ]
    }
   ],
   "source": [
    "v = int(input())\n",
    "vote = list(input())\n",
    "a = 0\n",
    "b = 0\n",
    "\n",
    "for i in vote:\n",
    "    if i == 'A':\n",
    "        a += 1\n",
    "    else:\n",
    "        b += 1\n",
    "\n",
    "if a > b:\n",
    "    print('A')\n",
    "elif b > a:\n",
    "    print('B')\n",
    "else:\n",
    "    print('Tie')"
   ]
  },
  {
   "cell_type": "code",
   "execution_count": 45,
   "id": "209b9b8b",
   "metadata": {},
   "outputs": [
    {
     "name": "stdout",
     "output_type": "stream",
     "text": [
      "3\n",
      "1\n",
      "0\n",
      "0\n",
      "junhee is not cute!\n"
     ]
    }
   ],
   "source": [
    "n = int(input())\n",
    "cute, notCute = 0, 0\n",
    "for i in range(n):\n",
    "    c = int(input())\n",
    "    if c == 0:\n",
    "        notCute += 1\n",
    "    else:\n",
    "        cute += 1\n",
    "if cute > notCute:\n",
    "    print(\"Junhee is cute!\")\n",
    "else:\n",
    "    print(\"Junhee is not cute!\")"
   ]
  },
  {
   "cell_type": "code",
   "execution_count": 49,
   "id": "55898d3c",
   "metadata": {},
   "outputs": [
    {
     "name": "stdout",
     "output_type": "stream",
     "text": [
      "level\n",
      "1\n"
     ]
    }
   ],
   "source": [
    "word = input()\n",
    "wordRev = word[::-1]\n",
    "\n",
    "if word == wordRev:\n",
    "    print(1)\n",
    "else:\n",
    "    print(0)"
   ]
  },
  {
   "cell_type": "code",
   "execution_count": 58,
   "id": "f11aec99",
   "metadata": {},
   "outputs": [
    {
     "name": "stdout",
     "output_type": "stream",
     "text": [
      "1 10000\n",
      "factor\n",
      "10000 1\n",
      "mulitple\n",
      "17 5\n",
      "neither\n",
      "8 16\n",
      "factor\n",
      "32 4\n",
      "mulitple\n",
      "17 5\n",
      "neither\n",
      "0 0\n"
     ]
    }
   ],
   "source": [
    "while True:\n",
    "    a, b = map(int, input().split())\n",
    "    if a == 0 and b == 0:\n",
    "        break\n",
    "    if a < b:\n",
    "        if b % a == 0:\n",
    "            print(\"factor\")\n",
    "    else:\n",
    "        if a % b == 0:\n",
    "            print(\"multiple\")\n",
    "        else:\n",
    "            print(\"neither\")"
   ]
  },
  {
   "cell_type": "code",
   "execution_count": 61,
   "id": "d89e14e9",
   "metadata": {},
   "outputs": [
    {
     "name": "stdout",
     "output_type": "stream",
     "text": [
      "2 2\n"
     ]
    },
    {
     "ename": "SyntaxError",
     "evalue": "'break' outside loop (1449751015.py, line 3)",
     "output_type": "error",
     "traceback": [
      "\u001b[1;36m  Input \u001b[1;32mIn [61]\u001b[1;36m\u001b[0m\n\u001b[1;33m    break\u001b[0m\n\u001b[1;37m    ^\u001b[0m\n\u001b[1;31mSyntaxError\u001b[0m\u001b[1;31m:\u001b[0m 'break' outside loop\n"
     ]
    }
   ],
   "source": [
    "while True:\n",
    "    m, w = map(int, input().split())\n",
    "    if m == 0 and w == 0:\n",
    "        break\n",
    "    print (m + w)"
   ]
  },
  {
   "cell_type": "code",
   "execution_count": 63,
   "id": "001b0724",
   "metadata": {},
   "outputs": [
    {
     "name": "stdout",
     "output_type": "stream",
     "text": [
      "5\n",
      "0 0\n",
      "0 1\n",
      "1 1\n",
      "3 -3\n",
      "2 2\n",
      "Q1: 2\n",
      "Q2: 0\n",
      "Q3: 0\n",
      "Q4: 1\n",
      "AXIS: 2\n"
     ]
    }
   ],
   "source": [
    "n = int(input())\n",
    "q1, q2, q3, q4, axis = 0,0,0,0,0\n",
    "for i in range(n):\n",
    "    x, y = map(int, input().split())\n",
    "    if x == 0 or y == 0:\n",
    "        axis += 1\n",
    "    elif x > 0:\n",
    "        if y > 0:\n",
    "            q1 += 1\n",
    "        else :\n",
    "            q4 += 1\n",
    "    else:\n",
    "        if y > 0:\n",
    "            q2 += 1\n",
    "        else:\n",
    "            q3 += 1\n",
    "            \n",
    "print(\"Q1: {}\".format(q1))\n",
    "print(\"Q2: {}\".format(q2))\n",
    "print(\"Q3: {}\".format(q3))\n",
    "print(\"Q4: {}\".format(q4))\n",
    "print(\"AXIS: {}\".format(axis))"
   ]
  },
  {
   "cell_type": "code",
   "execution_count": 74,
   "id": "5275bd8a",
   "metadata": {},
   "outputs": [
    {
     "ename": "KeyboardInterrupt",
     "evalue": "Interrupted by user",
     "output_type": "error",
     "traceback": [
      "\u001b[1;31m---------------------------------------------------------------------------\u001b[0m",
      "\u001b[1;31mKeyboardInterrupt\u001b[0m                         Traceback (most recent call last)",
      "Input \u001b[1;32mIn [74]\u001b[0m, in \u001b[0;36m<cell line: 1>\u001b[1;34m()\u001b[0m\n\u001b[1;32m----> 1\u001b[0m t \u001b[38;5;241m=\u001b[39m \u001b[38;5;28mint\u001b[39m(\u001b[38;5;28;43minput\u001b[39;49m\u001b[43m(\u001b[49m\u001b[43m)\u001b[49m) \u001b[38;5;66;03m# 테스트 케이스 개수\u001b[39;00m\n\u001b[0;32m      2\u001b[0m \u001b[38;5;28;01mfor\u001b[39;00m i \u001b[38;5;129;01min\u001b[39;00m \u001b[38;5;28mrange\u001b[39m(t): \u001b[38;5;66;03m# 테스트 케이스 만큼 반복\u001b[39;00m\n\u001b[0;32m      3\u001b[0m     score \u001b[38;5;241m=\u001b[39m \u001b[38;5;241m0\u001b[39m \u001b[38;5;66;03m# 점수 변수\u001b[39;00m\n",
      "File \u001b[1;32m~\\anaconda3\\lib\\site-packages\\ipykernel\\kernelbase.py:1075\u001b[0m, in \u001b[0;36mKernel.raw_input\u001b[1;34m(self, prompt)\u001b[0m\n\u001b[0;32m   1071\u001b[0m \u001b[38;5;28;01mif\u001b[39;00m \u001b[38;5;129;01mnot\u001b[39;00m \u001b[38;5;28mself\u001b[39m\u001b[38;5;241m.\u001b[39m_allow_stdin:\n\u001b[0;32m   1072\u001b[0m     \u001b[38;5;28;01mraise\u001b[39;00m StdinNotImplementedError(\n\u001b[0;32m   1073\u001b[0m         \u001b[38;5;124m\"\u001b[39m\u001b[38;5;124mraw_input was called, but this frontend does not support input requests.\u001b[39m\u001b[38;5;124m\"\u001b[39m\n\u001b[0;32m   1074\u001b[0m     )\n\u001b[1;32m-> 1075\u001b[0m \u001b[38;5;28;01mreturn\u001b[39;00m \u001b[38;5;28;43mself\u001b[39;49m\u001b[38;5;241;43m.\u001b[39;49m\u001b[43m_input_request\u001b[49m\u001b[43m(\u001b[49m\n\u001b[0;32m   1076\u001b[0m \u001b[43m    \u001b[49m\u001b[38;5;28;43mstr\u001b[39;49m\u001b[43m(\u001b[49m\u001b[43mprompt\u001b[49m\u001b[43m)\u001b[49m\u001b[43m,\u001b[49m\n\u001b[0;32m   1077\u001b[0m \u001b[43m    \u001b[49m\u001b[38;5;28;43mself\u001b[39;49m\u001b[38;5;241;43m.\u001b[39;49m\u001b[43m_parent_ident\u001b[49m\u001b[43m[\u001b[49m\u001b[38;5;124;43m\"\u001b[39;49m\u001b[38;5;124;43mshell\u001b[39;49m\u001b[38;5;124;43m\"\u001b[39;49m\u001b[43m]\u001b[49m\u001b[43m,\u001b[49m\n\u001b[0;32m   1078\u001b[0m \u001b[43m    \u001b[49m\u001b[38;5;28;43mself\u001b[39;49m\u001b[38;5;241;43m.\u001b[39;49m\u001b[43mget_parent\u001b[49m\u001b[43m(\u001b[49m\u001b[38;5;124;43m\"\u001b[39;49m\u001b[38;5;124;43mshell\u001b[39;49m\u001b[38;5;124;43m\"\u001b[39;49m\u001b[43m)\u001b[49m\u001b[43m,\u001b[49m\n\u001b[0;32m   1079\u001b[0m \u001b[43m    \u001b[49m\u001b[43mpassword\u001b[49m\u001b[38;5;241;43m=\u001b[39;49m\u001b[38;5;28;43;01mFalse\u001b[39;49;00m\u001b[43m,\u001b[49m\n\u001b[0;32m   1080\u001b[0m \u001b[43m\u001b[49m\u001b[43m)\u001b[49m\n",
      "File \u001b[1;32m~\\anaconda3\\lib\\site-packages\\ipykernel\\kernelbase.py:1120\u001b[0m, in \u001b[0;36mKernel._input_request\u001b[1;34m(self, prompt, ident, parent, password)\u001b[0m\n\u001b[0;32m   1117\u001b[0m             \u001b[38;5;28;01mbreak\u001b[39;00m\n\u001b[0;32m   1118\u001b[0m \u001b[38;5;28;01mexcept\u001b[39;00m \u001b[38;5;167;01mKeyboardInterrupt\u001b[39;00m:\n\u001b[0;32m   1119\u001b[0m     \u001b[38;5;66;03m# re-raise KeyboardInterrupt, to truncate traceback\u001b[39;00m\n\u001b[1;32m-> 1120\u001b[0m     \u001b[38;5;28;01mraise\u001b[39;00m \u001b[38;5;167;01mKeyboardInterrupt\u001b[39;00m(\u001b[38;5;124m\"\u001b[39m\u001b[38;5;124mInterrupted by user\u001b[39m\u001b[38;5;124m\"\u001b[39m) \u001b[38;5;28;01mfrom\u001b[39;00m \u001b[38;5;28mNone\u001b[39m\n\u001b[0;32m   1121\u001b[0m \u001b[38;5;28;01mexcept\u001b[39;00m \u001b[38;5;167;01mException\u001b[39;00m:\n\u001b[0;32m   1122\u001b[0m     \u001b[38;5;28mself\u001b[39m\u001b[38;5;241m.\u001b[39mlog\u001b[38;5;241m.\u001b[39mwarning(\u001b[38;5;124m\"\u001b[39m\u001b[38;5;124mInvalid Message:\u001b[39m\u001b[38;5;124m\"\u001b[39m, exc_info\u001b[38;5;241m=\u001b[39m\u001b[38;5;28;01mTrue\u001b[39;00m)\n",
      "\u001b[1;31mKeyboardInterrupt\u001b[0m: Interrupted by user"
     ]
    }
   ],
   "source": [
    "t = int(input()) # 테스트 케이스 개수\n",
    "for i in range(t): # 테스트 케이스 만큼 반복\n",
    "    score = 0 # 점수 변수\n",
    "    k = 0 # O의 연속정보 변수\n",
    "    result = input() # 퀴즈결과 입력\n",
    "    for j in range(1, len(result)): # 1항부터 순환\n",
    "        if result[j] == \"O\" and result[j-1] == \"O\":\n",
    "            score += 2+k # O가 연속일때 2점 + K\n",
    "            k += 1 # K는 연속으로 O일때 1을 올린다\n",
    "        elif result[j] == \"O\" and result[j-1] ==\"X\":\n",
    "            score += 1 # O인데 연속이 아닐경우 1점\n",
    "            k = 0 # 연속이 아닌순간 K값을 초기화한다\n",
    "        else: # X일 경우 점수가 없다\n",
    "            k = 0 # 연속이 아닌순간 K값을 초기화한다\n",
    "    if result[0] == \"O\": # 그리고 첫항 점수값을 더해준다\n",
    "        score += 1\n",
    "    print(score)"
   ]
  },
  {
   "cell_type": "code",
   "execution_count": null,
   "id": "91725275",
   "metadata": {},
   "outputs": [],
   "source": [
    "while True:\n",
    "    list = []\n",
    "    n = int(input())\n",
    "    if n == -1:\n",
    "        break\n",
    "        \n",
    "    for i in range(1, n//2+1): # 가장큰약수는 수의 절반\n",
    "        if n % i == 0:\n",
    "            list.append(i) # 약수면 list에 넣는다\n",
    "            \n",
    "    if sum(list) == n: # 약수의 합이 수와 같다면 완전수\n",
    "        print(\"{} =\".format(n) ,end=\" \")\n",
    "        for i in list:\n",
    "            if i == list[-1]: # 마지막 항에는 +를 붙이기 않기 위함\n",
    "                print(i)\n",
    "            else:\n",
    "                print(i, end=\" + \")\n",
    "    else:\n",
    "        print(n, \"is NOT perfect.\")"
   ]
  },
  {
   "cell_type": "code",
   "execution_count": 112,
   "id": "ef3714ea",
   "metadata": {},
   "outputs": [
    {
     "name": "stdout",
     "output_type": "stream",
     "text": [
      "400\n",
      "0 6 4\n"
     ]
    }
   ],
   "source": [
    "t = int(input())\n",
    "a,b,c = 0,0,0\n",
    "if t % 300 == 0:\n",
    "    a = t//300\n",
    "    print(a, b, c)\n",
    "else:\n",
    "    a = t//300\n",
    "    t %= 300\n",
    "    if t % 60 == 0:\n",
    "        b = t//60\n",
    "        print(a, b, c)\n",
    "    else:\n",
    "        b = t//60\n",
    "        t %= 60\n",
    "        if t % 10 == 0:\n",
    "            c = t//10\n",
    "            print(a, b, c)\n",
    "        else:\n",
    "            print(-1)"
   ]
  },
  {
   "cell_type": "code",
   "execution_count": 114,
   "id": "9448b567",
   "metadata": {},
   "outputs": [
    {
     "name": "stdout",
     "output_type": "stream",
     "text": [
      "4\n",
      "5 6\n",
      "6 6\n",
      "4 3\n",
      "5 2\n",
      "94 91\n"
     ]
    }
   ],
   "source": [
    "n = int(input())\n",
    "p1, p2 = 100, 100\n",
    "for i in range(n):\n",
    "    a, b = map(int, input().split())\n",
    "    if a > b:\n",
    "        p2 -= a\n",
    "    elif a < b:\n",
    "        p1 -= b\n",
    "print(p1)\n",
    "print(p2)"
   ]
  },
  {
   "cell_type": "code",
   "execution_count": 116,
   "id": "d7093386",
   "metadata": {},
   "outputs": [
    {
     "ename": "KeyboardInterrupt",
     "evalue": "Interrupted by user",
     "output_type": "error",
     "traceback": [
      "\u001b[1;31m---------------------------------------------------------------------------\u001b[0m",
      "\u001b[1;31mKeyboardInterrupt\u001b[0m                         Traceback (most recent call last)",
      "Input \u001b[1;32mIn [116]\u001b[0m, in \u001b[0;36m<cell line: 1>\u001b[1;34m()\u001b[0m\n\u001b[1;32m----> 1\u001b[0m t \u001b[38;5;241m=\u001b[39m \u001b[38;5;28mint\u001b[39m(\u001b[38;5;28;43minput\u001b[39;49m\u001b[43m(\u001b[49m\u001b[43m)\u001b[49m)\n\u001b[0;32m      2\u001b[0m \u001b[38;5;28;01mfor\u001b[39;00m i \u001b[38;5;129;01min\u001b[39;00m \u001b[38;5;28mrange\u001b[39m(t):\n\u001b[0;32m      3\u001b[0m     y, k \u001b[38;5;241m=\u001b[39m \u001b[38;5;241m0\u001b[39m, \u001b[38;5;241m0\u001b[39m\n",
      "File \u001b[1;32m~\\anaconda3\\lib\\site-packages\\ipykernel\\kernelbase.py:1075\u001b[0m, in \u001b[0;36mKernel.raw_input\u001b[1;34m(self, prompt)\u001b[0m\n\u001b[0;32m   1071\u001b[0m \u001b[38;5;28;01mif\u001b[39;00m \u001b[38;5;129;01mnot\u001b[39;00m \u001b[38;5;28mself\u001b[39m\u001b[38;5;241m.\u001b[39m_allow_stdin:\n\u001b[0;32m   1072\u001b[0m     \u001b[38;5;28;01mraise\u001b[39;00m StdinNotImplementedError(\n\u001b[0;32m   1073\u001b[0m         \u001b[38;5;124m\"\u001b[39m\u001b[38;5;124mraw_input was called, but this frontend does not support input requests.\u001b[39m\u001b[38;5;124m\"\u001b[39m\n\u001b[0;32m   1074\u001b[0m     )\n\u001b[1;32m-> 1075\u001b[0m \u001b[38;5;28;01mreturn\u001b[39;00m \u001b[38;5;28;43mself\u001b[39;49m\u001b[38;5;241;43m.\u001b[39;49m\u001b[43m_input_request\u001b[49m\u001b[43m(\u001b[49m\n\u001b[0;32m   1076\u001b[0m \u001b[43m    \u001b[49m\u001b[38;5;28;43mstr\u001b[39;49m\u001b[43m(\u001b[49m\u001b[43mprompt\u001b[49m\u001b[43m)\u001b[49m\u001b[43m,\u001b[49m\n\u001b[0;32m   1077\u001b[0m \u001b[43m    \u001b[49m\u001b[38;5;28;43mself\u001b[39;49m\u001b[38;5;241;43m.\u001b[39;49m\u001b[43m_parent_ident\u001b[49m\u001b[43m[\u001b[49m\u001b[38;5;124;43m\"\u001b[39;49m\u001b[38;5;124;43mshell\u001b[39;49m\u001b[38;5;124;43m\"\u001b[39;49m\u001b[43m]\u001b[49m\u001b[43m,\u001b[49m\n\u001b[0;32m   1078\u001b[0m \u001b[43m    \u001b[49m\u001b[38;5;28;43mself\u001b[39;49m\u001b[38;5;241;43m.\u001b[39;49m\u001b[43mget_parent\u001b[49m\u001b[43m(\u001b[49m\u001b[38;5;124;43m\"\u001b[39;49m\u001b[38;5;124;43mshell\u001b[39;49m\u001b[38;5;124;43m\"\u001b[39;49m\u001b[43m)\u001b[49m\u001b[43m,\u001b[49m\n\u001b[0;32m   1079\u001b[0m \u001b[43m    \u001b[49m\u001b[43mpassword\u001b[49m\u001b[38;5;241;43m=\u001b[39;49m\u001b[38;5;28;43;01mFalse\u001b[39;49;00m\u001b[43m,\u001b[49m\n\u001b[0;32m   1080\u001b[0m \u001b[43m\u001b[49m\u001b[43m)\u001b[49m\n",
      "File \u001b[1;32m~\\anaconda3\\lib\\site-packages\\ipykernel\\kernelbase.py:1120\u001b[0m, in \u001b[0;36mKernel._input_request\u001b[1;34m(self, prompt, ident, parent, password)\u001b[0m\n\u001b[0;32m   1117\u001b[0m             \u001b[38;5;28;01mbreak\u001b[39;00m\n\u001b[0;32m   1118\u001b[0m \u001b[38;5;28;01mexcept\u001b[39;00m \u001b[38;5;167;01mKeyboardInterrupt\u001b[39;00m:\n\u001b[0;32m   1119\u001b[0m     \u001b[38;5;66;03m# re-raise KeyboardInterrupt, to truncate traceback\u001b[39;00m\n\u001b[1;32m-> 1120\u001b[0m     \u001b[38;5;28;01mraise\u001b[39;00m \u001b[38;5;167;01mKeyboardInterrupt\u001b[39;00m(\u001b[38;5;124m\"\u001b[39m\u001b[38;5;124mInterrupted by user\u001b[39m\u001b[38;5;124m\"\u001b[39m) \u001b[38;5;28;01mfrom\u001b[39;00m \u001b[38;5;28mNone\u001b[39m\n\u001b[0;32m   1121\u001b[0m \u001b[38;5;28;01mexcept\u001b[39;00m \u001b[38;5;167;01mException\u001b[39;00m:\n\u001b[0;32m   1122\u001b[0m     \u001b[38;5;28mself\u001b[39m\u001b[38;5;241m.\u001b[39mlog\u001b[38;5;241m.\u001b[39mwarning(\u001b[38;5;124m\"\u001b[39m\u001b[38;5;124mInvalid Message:\u001b[39m\u001b[38;5;124m\"\u001b[39m, exc_info\u001b[38;5;241m=\u001b[39m\u001b[38;5;28;01mTrue\u001b[39;00m)\n",
      "\u001b[1;31mKeyboardInterrupt\u001b[0m: Interrupted by user"
     ]
    }
   ],
   "source": [
    "t = int(input())\n",
    "for i in range(t):\n",
    "    y, k = 0, 0\n",
    "    for i in range(9):\n",
    "        yy, kk = map(int, input().split())\n",
    "        if yy > 0:\n",
    "            y += yy\n",
    "        if kk > 0:\n",
    "            k += kk\n",
    "    if y > k:\n",
    "        print(\"Yonsei\")\n",
    "    elif k > y:\n",
    "        print(\"Korea\")\n",
    "    else:\n",
    "        print(\"Draw\")"
   ]
  },
  {
   "cell_type": "code",
   "execution_count": 140,
   "id": "a2636e4b",
   "metadata": {},
   "outputs": [
    {
     "ename": "KeyboardInterrupt",
     "evalue": "Interrupted by user",
     "output_type": "error",
     "traceback": [
      "\u001b[1;31m---------------------------------------------------------------------------\u001b[0m",
      "\u001b[1;31mKeyboardInterrupt\u001b[0m                         Traceback (most recent call last)",
      "Input \u001b[1;32mIn [140]\u001b[0m, in \u001b[0;36m<cell line: 1>\u001b[1;34m()\u001b[0m\n\u001b[1;32m----> 1\u001b[0m t \u001b[38;5;241m=\u001b[39m \u001b[38;5;28mint\u001b[39m(\u001b[38;5;28;43minput\u001b[39;49m\u001b[43m(\u001b[49m\u001b[43m)\u001b[49m)\n\u001b[0;32m      2\u001b[0m \u001b[38;5;28;01mfor\u001b[39;00m i \u001b[38;5;129;01min\u001b[39;00m \u001b[38;5;28mrange\u001b[39m(t):\n\u001b[0;32m      3\u001b[0m     n \u001b[38;5;241m=\u001b[39m \u001b[38;5;28mint\u001b[39m(\u001b[38;5;28minput\u001b[39m())\n",
      "File \u001b[1;32m~\\anaconda3\\lib\\site-packages\\ipykernel\\kernelbase.py:1075\u001b[0m, in \u001b[0;36mKernel.raw_input\u001b[1;34m(self, prompt)\u001b[0m\n\u001b[0;32m   1071\u001b[0m \u001b[38;5;28;01mif\u001b[39;00m \u001b[38;5;129;01mnot\u001b[39;00m \u001b[38;5;28mself\u001b[39m\u001b[38;5;241m.\u001b[39m_allow_stdin:\n\u001b[0;32m   1072\u001b[0m     \u001b[38;5;28;01mraise\u001b[39;00m StdinNotImplementedError(\n\u001b[0;32m   1073\u001b[0m         \u001b[38;5;124m\"\u001b[39m\u001b[38;5;124mraw_input was called, but this frontend does not support input requests.\u001b[39m\u001b[38;5;124m\"\u001b[39m\n\u001b[0;32m   1074\u001b[0m     )\n\u001b[1;32m-> 1075\u001b[0m \u001b[38;5;28;01mreturn\u001b[39;00m \u001b[38;5;28;43mself\u001b[39;49m\u001b[38;5;241;43m.\u001b[39;49m\u001b[43m_input_request\u001b[49m\u001b[43m(\u001b[49m\n\u001b[0;32m   1076\u001b[0m \u001b[43m    \u001b[49m\u001b[38;5;28;43mstr\u001b[39;49m\u001b[43m(\u001b[49m\u001b[43mprompt\u001b[49m\u001b[43m)\u001b[49m\u001b[43m,\u001b[49m\n\u001b[0;32m   1077\u001b[0m \u001b[43m    \u001b[49m\u001b[38;5;28;43mself\u001b[39;49m\u001b[38;5;241;43m.\u001b[39;49m\u001b[43m_parent_ident\u001b[49m\u001b[43m[\u001b[49m\u001b[38;5;124;43m\"\u001b[39;49m\u001b[38;5;124;43mshell\u001b[39;49m\u001b[38;5;124;43m\"\u001b[39;49m\u001b[43m]\u001b[49m\u001b[43m,\u001b[49m\n\u001b[0;32m   1078\u001b[0m \u001b[43m    \u001b[49m\u001b[38;5;28;43mself\u001b[39;49m\u001b[38;5;241;43m.\u001b[39;49m\u001b[43mget_parent\u001b[49m\u001b[43m(\u001b[49m\u001b[38;5;124;43m\"\u001b[39;49m\u001b[38;5;124;43mshell\u001b[39;49m\u001b[38;5;124;43m\"\u001b[39;49m\u001b[43m)\u001b[49m\u001b[43m,\u001b[49m\n\u001b[0;32m   1079\u001b[0m \u001b[43m    \u001b[49m\u001b[43mpassword\u001b[49m\u001b[38;5;241;43m=\u001b[39;49m\u001b[38;5;28;43;01mFalse\u001b[39;49;00m\u001b[43m,\u001b[49m\n\u001b[0;32m   1080\u001b[0m \u001b[43m\u001b[49m\u001b[43m)\u001b[49m\n",
      "File \u001b[1;32m~\\anaconda3\\lib\\site-packages\\ipykernel\\kernelbase.py:1120\u001b[0m, in \u001b[0;36mKernel._input_request\u001b[1;34m(self, prompt, ident, parent, password)\u001b[0m\n\u001b[0;32m   1117\u001b[0m             \u001b[38;5;28;01mbreak\u001b[39;00m\n\u001b[0;32m   1118\u001b[0m \u001b[38;5;28;01mexcept\u001b[39;00m \u001b[38;5;167;01mKeyboardInterrupt\u001b[39;00m:\n\u001b[0;32m   1119\u001b[0m     \u001b[38;5;66;03m# re-raise KeyboardInterrupt, to truncate traceback\u001b[39;00m\n\u001b[1;32m-> 1120\u001b[0m     \u001b[38;5;28;01mraise\u001b[39;00m \u001b[38;5;167;01mKeyboardInterrupt\u001b[39;00m(\u001b[38;5;124m\"\u001b[39m\u001b[38;5;124mInterrupted by user\u001b[39m\u001b[38;5;124m\"\u001b[39m) \u001b[38;5;28;01mfrom\u001b[39;00m \u001b[38;5;28mNone\u001b[39m\n\u001b[0;32m   1121\u001b[0m \u001b[38;5;28;01mexcept\u001b[39;00m \u001b[38;5;167;01mException\u001b[39;00m:\n\u001b[0;32m   1122\u001b[0m     \u001b[38;5;28mself\u001b[39m\u001b[38;5;241m.\u001b[39mlog\u001b[38;5;241m.\u001b[39mwarning(\u001b[38;5;124m\"\u001b[39m\u001b[38;5;124mInvalid Message:\u001b[39m\u001b[38;5;124m\"\u001b[39m, exc_info\u001b[38;5;241m=\u001b[39m\u001b[38;5;28;01mTrue\u001b[39;00m)\n",
      "\u001b[1;31mKeyboardInterrupt\u001b[0m: Interrupted by user"
     ]
    }
   ],
   "source": [
    "t = int(input())\n",
    "for i in range(t):\n",
    "    n = int(input())\n",
    "    a, b = [], []\n",
    "    for i in range(n):\n",
    "        x, y = input().split() # 입력받아 스플릿해서\n",
    "        a.append(str(x)) # 문자열은 문자열로 학교 리스트에 넣고\n",
    "        b.append(int(y)) # 정수는 정수로 술 소비수 리스트에 넣는다\n",
    "    maxB = max(b) # 제일 많은 술 소비수를 찾은 뒤\n",
    "    for i in range(len(b)): # 술 소비수 리스트에서\n",
    "        if b[i] == maxB: # 제일 많은 술 소비수가 몇번째 항인지 찾는다\n",
    "            print(a[i]) # 학교 리스트의 해당 항을 출력한다"
   ]
  },
  {
   "cell_type": "code",
   "execution_count": 142,
   "id": "b2f77f53",
   "metadata": {},
   "outputs": [
    {
     "name": "stdout",
     "output_type": "stream",
     "text": [
      "9223372036854775807 9223372036854775808\n",
      "18446744073709551615\n"
     ]
    }
   ],
   "source": [
    "a, b = map(int, input().split())\n",
    "print(a+b)"
   ]
  }
 ],
 "metadata": {
  "kernelspec": {
   "display_name": "Python 3 (ipykernel)",
   "language": "python",
   "name": "python3"
  },
  "language_info": {
   "codemirror_mode": {
    "name": "ipython",
    "version": 3
   },
   "file_extension": ".py",
   "mimetype": "text/x-python",
   "name": "python",
   "nbconvert_exporter": "python",
   "pygments_lexer": "ipython3",
   "version": "3.9.12"
  }
 },
 "nbformat": 4,
 "nbformat_minor": 5
}
